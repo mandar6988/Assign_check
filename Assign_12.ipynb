{
 "cells": [
  {
   "cell_type": "markdown",
   "id": "687ca535",
   "metadata": {},
   "source": [
    "# Write a function so that the columns of the output matrix are powers of the input vector. The order of the powers is determined by the increasing boolean argument. Specifically, when increasing is False, the i-th output column is the input vector raised element-wise to the power of N - i - 1. \n",
    "HINT: Such a matrix with a geometric progression in each row is named for Alexandre-\n",
    "Theophile Vandermonde."
   ]
  },
  {
   "cell_type": "code",
   "execution_count": 3,
   "id": "69bdc022",
   "metadata": {},
   "outputs": [],
   "source": [
    "import numpy as np"
   ]
  },
  {
   "cell_type": "code",
   "execution_count": 4,
   "id": "f4d4ae1c",
   "metadata": {},
   "outputs": [],
   "source": [
    "def generate_vandermonde_matrix(vector, power, increasing=True):\n",
    "    length = len(vector)\n",
    "    matrix = np.empty((length, power))\n",
    "    if increasing:\n",
    "        for i in range(power):\n",
    "            matrix[:, i] = np.power(vector, i)\n",
    "    else:\n",
    "        for i in range(power):\n",
    "            matrix[:, i] = np.power(vector, power-i-1)\n",
    "    return matrix"
   ]
  },
  {
   "cell_type": "code",
   "execution_count": 7,
   "id": "995dcebf",
   "metadata": {},
   "outputs": [
    {
     "name": "stdout",
     "output_type": "stream",
     "text": [
      "[[  32.   16.    8.    4.    2.    1.]\n",
      " [ 243.   81.   27.    9.    3.    1.]\n",
      " [1024.  256.   64.   16.    4.    1.]]\n"
     ]
    }
   ],
   "source": [
    "np.set_printoptions(suppress=True)\n",
    "input_vector = np.array([2, 3, 4])\n",
    "output_matrix = generate_vandermonde_matrix(input_vector, 6, increasing=False)\n",
    "print(output_matrix)"
   ]
  },
  {
   "cell_type": "markdown",
   "id": "24e7d0cb",
   "metadata": {},
   "source": []
  },
  {
   "cell_type": "code",
   "execution_count": null,
   "id": "cdda4f99",
   "metadata": {},
   "outputs": [],
   "source": []
  },
  {
   "cell_type": "code",
   "execution_count": 11,
   "id": "08637f8a",
   "metadata": {},
   "outputs": [],
   "source": [
    "def moving_average(seq, kernel):\n",
    "    num_values = len(seq)\n",
    "    moving_averages = []\n",
    "    \n",
    "    for i in range(num_values - kernel + 1):\n",
    "        window = seq[i:i+kernel]\n",
    "        average = sum(window) / kernel\n",
    "        moving_averages.append(average)\n",
    "    \n",
    "    return moving_averages"
   ]
  },
  {
   "cell_type": "code",
   "execution_count": 12,
   "id": "2d087f7a",
   "metadata": {},
   "outputs": [
    {
     "name": "stdout",
     "output_type": "stream",
     "text": [
      "[25.0, 35.0, 45.0, 55.0, 65.0, 75.0, 85.0]\n"
     ]
    }
   ],
   "source": [
    "sequence = [10, 20, 30, 40, 50, 60, 70, 80, 90, 100]\n",
    "window_size = 4\n",
    "\n",
    "averages = moving_average(sequence, window_size)\n",
    "print(averages)"
   ]
  },
  {
   "cell_type": "markdown",
   "id": "d07e2091",
   "metadata": {},
   "source": [
    "# Question: Write a function to find moving average in an array over a window: Test it over [3, 5, 7, 2, 8, 10, 11, 65, 72, 81, 99, 100, 150] and window of 3."
   ]
  },
  {
   "cell_type": "code",
   "execution_count": 13,
   "id": "115be14c",
   "metadata": {},
   "outputs": [
    {
     "name": "stdout",
     "output_type": "stream",
     "text": [
      "[5.0, 4.666666666666667, 5.666666666666667, 6.666666666666667, 9.666666666666666, 28.666666666666668, 49.333333333333336, 72.66666666666667, 84.0, 93.33333333333333, 116.33333333333333]\n"
     ]
    }
   ],
   "source": [
    "lst=[3, 5, 7, 2, 8, 10, 11, 65, 72, 81, 99, 100, 150]\n",
    "window_size=3\n",
    "averages = moving_average(lst, window_size)\n",
    "print(averages)"
   ]
  },
  {
   "cell_type": "code",
   "execution_count": null,
   "id": "f07851da",
   "metadata": {},
   "outputs": [],
   "source": []
  }
 ],
 "metadata": {
  "kernelspec": {
   "display_name": "Python 3 (ipykernel)",
   "language": "python",
   "name": "python3"
  },
  "language_info": {
   "codemirror_mode": {
    "name": "ipython",
    "version": 3
   },
   "file_extension": ".py",
   "mimetype": "text/x-python",
   "name": "python",
   "nbconvert_exporter": "python",
   "pygments_lexer": "ipython3",
   "version": "3.10.10"
  }
 },
 "nbformat": 4,
 "nbformat_minor": 5
}
