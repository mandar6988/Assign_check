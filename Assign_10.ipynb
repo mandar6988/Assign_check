{
 "cells": [
  {
   "cell_type": "code",
   "execution_count": 1,
   "id": "f2204094",
   "metadata": {},
   "outputs": [],
   "source": [
    "#create a tuple from multiple data types"
   ]
  },
  {
   "cell_type": "code",
   "execution_count": 3,
   "id": "a95ad4ff",
   "metadata": {},
   "outputs": [
    {
     "data": {
      "text/plain": [
       "('a', 1, True, None, 3.4, 5)"
      ]
     },
     "execution_count": 3,
     "metadata": {},
     "output_type": "execute_result"
    }
   ],
   "source": [
    "a=('a',1,True,None,3.4,5)\n",
    "a"
   ]
  },
  {
   "cell_type": "code",
   "execution_count": 4,
   "id": "45217f31",
   "metadata": {},
   "outputs": [
    {
     "data": {
      "text/plain": [
       "('a', 1, True, None, 3.4, 5, {2: 3, 4: 5})"
      ]
     },
     "execution_count": 4,
     "metadata": {},
     "output_type": "execute_result"
    }
   ],
   "source": [
    "a=('a',1,True,None,3.4,5,{2:3,4:5})\n",
    "a"
   ]
  },
  {
   "cell_type": "code",
   "execution_count": 5,
   "id": "a03d0ad2",
   "metadata": {},
   "outputs": [],
   "source": [
    "# Create a list of length 3 and Create a list of length 4, For each element in the first list,\n",
    "# Display the corresponding index element of the second list"
   ]
  },
  {
   "cell_type": "code",
   "execution_count": 6,
   "id": "19050ad3",
   "metadata": {},
   "outputs": [
    {
     "name": "stdout",
     "output_type": "stream",
     "text": [
      "1 : a\n",
      "2 : b\n",
      "3 : c\n"
     ]
    }
   ],
   "source": [
    "a=[1,2,3]\n",
    "b=['a','b','c','d']\n",
    "\n",
    "for i, j in zip(a,b):\n",
    "    print(i,':',j)"
   ]
  },
  {
   "cell_type": "code",
   "execution_count": 8,
   "id": "c5842127",
   "metadata": {},
   "outputs": [
    {
     "name": "stdout",
     "output_type": "stream",
     "text": [
      "[(1, 'a'), (1, 'b'), (1, 'c'), (1, 'd'), (2, 'a'), (2, 'b'), (2, 'c'), (2, 'd'), (3, 'a'), (3, 'b'), (3, 'c'), (3, 'd')]\n"
     ]
    }
   ],
   "source": [
    "d=[(i,j) for i in a for j in b]\n",
    "print(d)"
   ]
  },
  {
   "cell_type": "code",
   "execution_count": 9,
   "id": "1600ccc2",
   "metadata": {},
   "outputs": [],
   "source": [
    "# #write a program for breaking and exiting out of loop"
   ]
  },
  {
   "cell_type": "code",
   "execution_count": 11,
   "id": "7c7c9af9",
   "metadata": {},
   "outputs": [
    {
     "name": "stdout",
     "output_type": "stream",
     "text": [
      "a\n",
      "b\n",
      "b is found\n"
     ]
    }
   ],
   "source": [
    "a=['a','b','c']\n",
    "\n",
    "for i in a:\n",
    "    print(i)\n",
    "    if i=='b':\n",
    "        print('b is found')\n",
    "        break"
   ]
  },
  {
   "cell_type": "code",
   "execution_count": 13,
   "id": "7364982d",
   "metadata": {},
   "outputs": [],
   "source": [
    "#A loop will exit when completed, but using an else statement we can add an action at the conclusion of the loop if it hasn’t been exited earlier."
   ]
  },
  {
   "cell_type": "code",
   "execution_count": 15,
   "id": "d22cbadb",
   "metadata": {},
   "outputs": [
    {
     "name": "stdout",
     "output_type": "stream",
     "text": [
      "a\n",
      "b\n",
      "b is found\n"
     ]
    }
   ],
   "source": [
    "a=['a','b','c']\n",
    "for i in a:\n",
    "    print(i)\n",
    "    if i=='b':\n",
    "        print('b is found')\n",
    "        break\n",
    "else:\n",
    "    print(\"no b is found\")"
   ]
  },
  {
   "cell_type": "code",
   "execution_count": 16,
   "id": "ff7d55bb",
   "metadata": {},
   "outputs": [
    {
     "name": "stdout",
     "output_type": "stream",
     "text": [
      "a\n",
      "d\n",
      "c\n",
      "no b is found\n"
     ]
    }
   ],
   "source": [
    "a=['a','d','c']\n",
    "for i in a:\n",
    "    print(i)\n",
    "    if i=='b':\n",
    "        print('b is found')\n",
    "        break\n",
    "else:\n",
    "    print(\"no b is found\")"
   ]
  },
  {
   "cell_type": "code",
   "execution_count": null,
   "id": "8d892d61",
   "metadata": {},
   "outputs": [],
   "source": []
  }
 ],
 "metadata": {
  "kernelspec": {
   "display_name": "Python 3 (ipykernel)",
   "language": "python",
   "name": "python3"
  },
  "language_info": {
   "codemirror_mode": {
    "name": "ipython",
    "version": 3
   },
   "file_extension": ".py",
   "mimetype": "text/x-python",
   "name": "python",
   "nbconvert_exporter": "python",
   "pygments_lexer": "ipython3",
   "version": "3.10.10"
  }
 },
 "nbformat": 4,
 "nbformat_minor": 5
}
