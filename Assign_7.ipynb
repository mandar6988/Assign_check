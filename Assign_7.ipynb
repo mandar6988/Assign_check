{
 "cells": [
  {
   "cell_type": "markdown",
   "id": "00f42775",
   "metadata": {},
   "source": [
    "# Write a Python program to check if all dictionaries in a list are empty or not."
   ]
  },
  {
   "cell_type": "code",
   "execution_count": 18,
   "id": "5799afc2",
   "metadata": {},
   "outputs": [],
   "source": [
    "def check_dicts_empty(dicts):\n",
    "    l1=[]\n",
    "    for d in dicts:\n",
    "        if d:\n",
    "            l1.append(False)\n",
    "        else:\n",
    "            l1.append(True)\n",
    "    if False in l1:\n",
    "        return False\n",
    "    else:\n",
    "        return True\n",
    "\n",
    "# Example usage\n",
    "list_of_dicts = [{}, {}, {}, {}] "
   ]
  },
  {
   "cell_type": "code",
   "execution_count": 19,
   "id": "c34426a8",
   "metadata": {},
   "outputs": [
    {
     "data": {
      "text/plain": [
       "True"
      ]
     },
     "execution_count": 19,
     "metadata": {},
     "output_type": "execute_result"
    }
   ],
   "source": [
    "chk=check_dicts_empty(list_of_dicts)\n",
    "chk\n",
    "\n",
    "        "
   ]
  },
  {
   "cell_type": "code",
   "execution_count": 17,
   "id": "fe7c9fae",
   "metadata": {},
   "outputs": [
    {
     "name": "stdout",
     "output_type": "stream",
     "text": [
      "any one of the dicts are not empty\n"
     ]
    }
   ],
   "source": [
    "list_of_dicts = [{}, {}, {\"key\": \"value\"}, {}]\n",
    "if chk ==True:\n",
    "    print(\"all dicts are empty\")   \n",
    "else:\n",
    "    print(\"any one of the dicts are not empty\")"
   ]
  },
  {
   "cell_type": "markdown",
   "id": "eedebb8f",
   "metadata": {},
   "source": [
    "# Write a Python program to remove duplicates from a list of lists."
   ]
  },
  {
   "cell_type": "code",
   "execution_count": 20,
   "id": "0b63bbf4",
   "metadata": {},
   "outputs": [],
   "source": [
    "def remove_duplicates(list_of_lists):\n",
    "    unique_lists = []\n",
    "    for lst in list_of_lists:\n",
    "        if lst not in unique_lists:\n",
    "            unique_lists.append(lst)\n",
    "    return unique_lists"
   ]
  },
  {
   "cell_type": "code",
   "execution_count": 21,
   "id": "f2b7152c",
   "metadata": {},
   "outputs": [
    {
     "name": "stdout",
     "output_type": "stream",
     "text": [
      "[[110, 120], [240], [330, 456, 425], [310, 220], [133]]\n"
     ]
    }
   ],
   "source": [
    "num = [[110, 120], [240], [330, 456, 425], [310, 220], [133], [240]]\n",
    "new_num=remove_duplicates(num)\n",
    "print(new_num)"
   ]
  },
  {
   "cell_type": "markdown",
   "id": "a9b271e3",
   "metadata": {},
   "source": [
    "# Write a Python program to extend a list without append."
   ]
  },
  {
   "cell_type": "code",
   "execution_count": 32,
   "id": "ce809586",
   "metadata": {},
   "outputs": [],
   "source": [
    "def extend_list(original_list, extension_list):\n",
    "    for item in extension_list:\n",
    "        original_list += [item]\n",
    "    return original_list"
   ]
  },
  {
   "cell_type": "code",
   "execution_count": 33,
   "id": "bc8421a5",
   "metadata": {},
   "outputs": [],
   "source": [
    "x = [103, 320, 430]\n",
    "y = [403, 503, 603]\n",
    "z=extend_list(x,y)"
   ]
  },
  {
   "cell_type": "code",
   "execution_count": 34,
   "id": "b19e58ca",
   "metadata": {},
   "outputs": [
    {
     "name": "stdout",
     "output_type": "stream",
     "text": [
      "[103, 320, 430, 403, 503, 603]\n"
     ]
    }
   ],
   "source": [
    "print(z)"
   ]
  },
  {
   "cell_type": "markdown",
   "id": "219b09fc",
   "metadata": {},
   "source": [
    "# Write a Python program to find the list in a list of lists whose sum of elements is the highest"
   ]
  },
  {
   "cell_type": "code",
   "execution_count": 35,
   "id": "bc9e4cdf",
   "metadata": {},
   "outputs": [],
   "source": [
    "def find_highest_sum_list(list_of_lists):\n",
    "    max_sum = 0\n",
    "    max_list = None\n",
    "\n",
    "    for sublist in list_of_lists:\n",
    "        current_sum = sum(sublist)\n",
    "        if current_sum > max_sum:\n",
    "            max_sum = current_sum\n",
    "            max_list = sublist\n",
    "\n",
    "    return max_list"
   ]
  },
  {
   "cell_type": "code",
   "execution_count": 36,
   "id": "aa420f37",
   "metadata": {},
   "outputs": [
    {
     "name": "stdout",
     "output_type": "stream",
     "text": [
      "[10, 11, 12]\n"
     ]
    }
   ],
   "source": [
    "num = [[1,2,3], [4,5,6], [10,11,12], [7,8,9]]\n",
    "print(find_highest_sum_list(num))"
   ]
  },
  {
   "cell_type": "markdown",
   "id": "a234168e",
   "metadata": {},
   "source": [
    "# Write a Python program to access dictionary key’s element by index."
   ]
  },
  {
   "cell_type": "code",
   "execution_count": 37,
   "id": "824ca685",
   "metadata": {},
   "outputs": [
    {
     "name": "stdout",
     "output_type": "stream",
     "text": [
      "stats\n"
     ]
    }
   ],
   "source": [
    "num = {'stats': 80, 'math': 90, 'algorithm': 86}\n",
    "print(list(num)[0])"
   ]
  },
  {
   "cell_type": "markdown",
   "id": "5da44ca7",
   "metadata": {},
   "source": [
    "# Write a Python program to iterate over two lists simultaneously."
   ]
  },
  {
   "cell_type": "code",
   "execution_count": 39,
   "id": "77ed7fcf",
   "metadata": {},
   "outputs": [
    {
     "name": "stdout",
     "output_type": "stream",
     "text": [
      "1 a\n",
      "2 b\n",
      "3 c\n"
     ]
    }
   ],
   "source": [
    "one=[1,2,3]\n",
    "two=['a','b','c']\n",
    "for i,j in zip(one,two):\n",
    "    print(i,j)"
   ]
  },
  {
   "cell_type": "markdown",
   "id": "60b7b621",
   "metadata": {},
   "source": [
    "# write a program to inser a string at the begining of every elements in a list"
   ]
  },
  {
   "cell_type": "code",
   "execution_count": 41,
   "id": "daf71dc6",
   "metadata": {},
   "outputs": [
    {
     "name": "stdout",
     "output_type": "stream",
     "text": [
      "['check_10', 'check_20', 'check_30', 'check_40', 'check_50']\n"
     ]
    }
   ],
   "source": [
    "a = [10,20,30,40,50]\n",
    "#enter customer before each element\n",
    "print(['check_{0}'.format(i) for i in a])"
   ]
  },
  {
   "cell_type": "markdown",
   "id": "dee15863",
   "metadata": {},
   "source": [
    "# write a program to take two lists and print if they have at least one common member"
   ]
  },
  {
   "cell_type": "code",
   "execution_count": 43,
   "id": "a5d8cb05",
   "metadata": {},
   "outputs": [],
   "source": [
    "def has_common_member(list1, list2):\n",
    "    for item in list1:\n",
    "        if item in list2:\n",
    "            return True\n",
    "    return False"
   ]
  },
  {
   "cell_type": "code",
   "execution_count": 44,
   "id": "8ffc1f47",
   "metadata": {},
   "outputs": [
    {
     "name": "stdout",
     "output_type": "stream",
     "text": [
      "True\n"
     ]
    }
   ],
   "source": [
    "a=[10,11,12]\n",
    "b=[21,11,22]\n",
    "c=has_common_member(a,b)\n",
    "print(c)"
   ]
  },
  {
   "cell_type": "markdown",
   "id": "2627500d",
   "metadata": {},
   "source": [
    "# compute all permutations in a list"
   ]
  },
  {
   "cell_type": "code",
   "execution_count": 45,
   "id": "04052a44",
   "metadata": {},
   "outputs": [],
   "source": [
    "import itertools\n",
    "\n",
    "def compute_permutations(lst):\n",
    "    permutations = list(itertools.permutations(lst))\n",
    "    return permutations"
   ]
  },
  {
   "cell_type": "code",
   "execution_count": 46,
   "id": "d33009cc",
   "metadata": {},
   "outputs": [
    {
     "name": "stdout",
     "output_type": "stream",
     "text": [
      "[(1, 2, 3), (1, 3, 2), (2, 1, 3), (2, 3, 1), (3, 1, 2), (3, 2, 1)]\n"
     ]
    }
   ],
   "source": [
    "a=[1,2,3]\n",
    "b= compute_permutations(a)\n",
    "print(b)"
   ]
  },
  {
   "cell_type": "code",
   "execution_count": null,
   "id": "c6d28684",
   "metadata": {},
   "outputs": [],
   "source": []
  }
 ],
 "metadata": {
  "kernelspec": {
   "display_name": "Python 3 (ipykernel)",
   "language": "python",
   "name": "python3"
  },
  "language_info": {
   "codemirror_mode": {
    "name": "ipython",
    "version": 3
   },
   "file_extension": ".py",
   "mimetype": "text/x-python",
   "name": "python",
   "nbconvert_exporter": "python",
   "pygments_lexer": "ipython3",
   "version": "3.10.10"
  }
 },
 "nbformat": 4,
 "nbformat_minor": 5
}
