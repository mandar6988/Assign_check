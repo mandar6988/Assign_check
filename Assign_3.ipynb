{
 "cells": [
  {
   "cell_type": "markdown",
   "id": "51856a92",
   "metadata": {},
   "source": [
    "# 1.1 Write a Python Program to implement your own myreduce() function which works exactly like Python's built-in function reduce()"
   ]
  },
  {
   "cell_type": "code",
   "execution_count": 2,
   "id": "722b38dd",
   "metadata": {},
   "outputs": [],
   "source": [
    "def add1(x,y):\n",
    "    return(x+y)\n",
    "def myreduce(fun_name,*x):\n",
    "    l=len(*x)\n",
    "    init=x[0]\n",
    "    temp=x[0]\n",
    "    val=temp[0]\n",
    "    for i in range(1,len(temp)):\n",
    "        val=fun_name(val,temp[i])\n",
    "    return val"
   ]
  },
  {
   "cell_type": "code",
   "execution_count": 3,
   "id": "d64ca27e",
   "metadata": {},
   "outputs": [
    {
     "name": "stdout",
     "output_type": "stream",
     "text": [
      "150\n"
     ]
    }
   ],
   "source": [
    "a=[10,20,30,40,50]\n",
    "b=[10,10,10,10,10]\n",
    "chk=myreduce(add1,a)\n",
    "print(chk)"
   ]
  },
  {
   "cell_type": "markdown",
   "id": "21eea1e0",
   "metadata": {},
   "source": [
    "# 1.2 Write a Python program to implement your own myfilter() function which works exactly like Python's built-in function filter()"
   ]
  },
  {
   "cell_type": "code",
   "execution_count": 4,
   "id": "82bffbd6",
   "metadata": {},
   "outputs": [],
   "source": [
    "def my_filter(fun_name,y):\n",
    "    result=[]\n",
    "    for i in y:\n",
    "        if fun_name(i):\n",
    "            result.append(i)\n",
    "    return(result)\n",
    "def rnd_fun(val):\n",
    "    if val<25:\n",
    "        return True\n",
    "    else:\n",
    "        return False"
   ]
  },
  {
   "cell_type": "code",
   "execution_count": 6,
   "id": "e2d49063",
   "metadata": {},
   "outputs": [
    {
     "name": "stdout",
     "output_type": "stream",
     "text": [
      "[10, 20]\n"
     ]
    }
   ],
   "source": [
    "b=[10,20,30,40,50]\n",
    "aa=my_filter(rnd_fun,b)\n",
    "print(aa)"
   ]
  },
  {
   "cell_type": "markdown",
   "id": "4a78d708",
   "metadata": {},
   "source": [
    "# 2. Implement List comprehensions to produce the following lists.\n",
    "['x', 'xx', 'xxx', 'xxxx', 'y', 'yy', 'yyy', 'yyyy', 'z', 'zz', 'zzz', 'zzzz']\n",
    "\n",
    "['x', 'y', 'z', 'xx', 'yy', 'zz', 'xxx', 'yyy', 'zzz', 'xxxx', 'yyyy', 'zzzz']\n",
    "\n",
    "[[2], [3], [4], [3], [4], [5], [4], [5], [6]] [[2, 3, 4, 5], [3, 4, 5, 6], [4, 5, 6, 7], [5, 6, 7, 8]]\n",
    "\n",
    "[(1, 1), (2, 1), (3, 1), (1, 2), (2, 2), (3, 2), (1, 3), (2, 3), (3, 3)]\n"
   ]
  },
  {
   "cell_type": "code",
   "execution_count": 7,
   "id": "a3a7233c",
   "metadata": {},
   "outputs": [
    {
     "name": "stdout",
     "output_type": "stream",
     "text": [
      "['x', 'xx', 'xxx', 'xxxx', 'y', 'yy', 'yyy', 'yyyy', 'z', 'zz', 'zzz', 'zzzz']\n"
     ]
    }
   ],
   "source": [
    "chk=[i*j for i in 'xyz' for j in range(1,5)]\n",
    "print(chk)"
   ]
  },
  {
   "cell_type": "code",
   "execution_count": 8,
   "id": "9fa0d6b1",
   "metadata": {},
   "outputs": [
    {
     "name": "stdout",
     "output_type": "stream",
     "text": [
      "['x', 'y', 'z', 'xx', 'yy', 'zz', 'xxx', 'yyy', 'zzz', 'xxxx', 'yyyy', 'zzzz']\n"
     ]
    }
   ],
   "source": [
    "chk=[i*j for i in range(1,5) for j in 'xyz']\n",
    "print(chk)"
   ]
  },
  {
   "cell_type": "code",
   "execution_count": 10,
   "id": "5675a7ff",
   "metadata": {},
   "outputs": [
    {
     "name": "stdout",
     "output_type": "stream",
     "text": [
      "[[2], [3], [4], [3], [4], [5], [4], [5], [6], [[2, 3, 4, 5], [3, 4, 5, 6], [4, 5, 6, 7], [5, 6, 7, 8]]]\n"
     ]
    }
   ],
   "source": [
    "l=[]\n",
    "l=[[x+y+z] for x in range(2,3) for y in range(3) for z in range(3)]\n",
    "l.append([[x,x+1,x+2,x+3] for x in range(2,6)])\n",
    "\n",
    "print(l)"
   ]
  },
  {
   "cell_type": "markdown",
   "id": "d20b2de8",
   "metadata": {},
   "source": [
    "# OR"
   ]
  },
  {
   "cell_type": "code",
   "execution_count": 11,
   "id": "35b0aec1",
   "metadata": {},
   "outputs": [
    {
     "name": "stdout",
     "output_type": "stream",
     "text": [
      "[[2], [3], [4], [3], [4], [5], [4], [5], [6]]\n",
      "[[2, 3, 4, 5], [3, 4, 5, 6], [4, 5, 6, 7], [5, 6, 7, 8]]\n"
     ]
    }
   ],
   "source": [
    "a=[[x+y+z] for x in range(2,3) for y in range(3) for z in range(3)]\n",
    "b=[[x,x+1,x+2,x+3] for x in range(2,6)]\n",
    "c=a+b\n",
    "print(a)\n",
    "print(b)"
   ]
  },
  {
   "cell_type": "code",
   "execution_count": 12,
   "id": "a9a46c66",
   "metadata": {},
   "outputs": [
    {
     "name": "stdout",
     "output_type": "stream",
     "text": [
      "[(1, 1), (1, 2), (1, 3), (2, 1), (2, 2), (2, 3), (3, 1), (3, 2), (3, 3)]\n"
     ]
    }
   ],
   "source": [
    "a=()\n",
    "a=[(a,b) for a in range(1,4) for b in range(1,4)]\n",
    "print(a)"
   ]
  },
  {
   "cell_type": "code",
   "execution_count": null,
   "id": "5e32983d",
   "metadata": {},
   "outputs": [],
   "source": []
  }
 ],
 "metadata": {
  "kernelspec": {
   "display_name": "Python 3 (ipykernel)",
   "language": "python",
   "name": "python3"
  },
  "language_info": {
   "codemirror_mode": {
    "name": "ipython",
    "version": 3
   },
   "file_extension": ".py",
   "mimetype": "text/x-python",
   "name": "python",
   "nbconvert_exporter": "python",
   "pygments_lexer": "ipython3",
   "version": "3.10.10"
  }
 },
 "nbformat": 4,
 "nbformat_minor": 5
}
