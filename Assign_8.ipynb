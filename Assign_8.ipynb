{
 "cells": [
  {
   "cell_type": "markdown",
   "id": "3b725271",
   "metadata": {},
   "source": [
    "# write a program to sort a dictionary by key."
   ]
  },
  {
   "cell_type": "code",
   "execution_count": 1,
   "id": "c4b6ed04",
   "metadata": {},
   "outputs": [],
   "source": [
    "dict1 = {'c': 1,\n",
    "'b':2,\n",
    "'a': 3}"
   ]
  },
  {
   "cell_type": "code",
   "execution_count": 4,
   "id": "5e26944a",
   "metadata": {},
   "outputs": [],
   "source": [
    "def sort_dictionary_by_key(dictionary):\n",
    "    sorted_dict = dict(sorted(dictionary.items()))\n",
    "    return sorted_dict"
   ]
  },
  {
   "cell_type": "code",
   "execution_count": 5,
   "id": "55c3920f",
   "metadata": {},
   "outputs": [
    {
     "data": {
      "text/plain": [
       "{'a': 3, 'b': 2, 'c': 1}"
      ]
     },
     "execution_count": 5,
     "metadata": {},
     "output_type": "execute_result"
    }
   ],
   "source": [
    "sort_dictionary_by_key(dict1)"
   ]
  },
  {
   "cell_type": "markdown",
   "id": "bdde0cf8",
   "metadata": {},
   "source": [
    "# Write a Python program to get a dictionary from an object's fields."
   ]
  },
  {
   "cell_type": "code",
   "execution_count": 7,
   "id": "95483f8f",
   "metadata": {},
   "outputs": [],
   "source": [
    "class dictObj(object):\n",
    "    def __init__(self):\n",
    "        self.x = 'x'\n",
    "        self.y = 'y'\n",
    "        self.z = 'z'"
   ]
  },
  {
   "cell_type": "code",
   "execution_count": 8,
   "id": "3139aff5",
   "metadata": {},
   "outputs": [
    {
     "data": {
      "text/plain": [
       "{'x': 'x', 'y': 'y', 'z': 'z'}"
      ]
     },
     "execution_count": 8,
     "metadata": {},
     "output_type": "execute_result"
    }
   ],
   "source": [
    "o1=dictObj()\n",
    "o1.__dict__"
   ]
  },
  {
   "cell_type": "markdown",
   "id": "22fbe631",
   "metadata": {},
   "source": [
    "# write a program to remove duplicates from Dictionary."
   ]
  },
  {
   "cell_type": "code",
   "execution_count": 18,
   "id": "143eae49",
   "metadata": {},
   "outputs": [],
   "source": [
    "def remove_duplicates_from_dict(dictionary):\n",
    "    unique_dict = {}\n",
    "    unique_values = set()\n",
    "\n",
    "    for key, value in dictionary.items():\n",
    "        # Convert lists to tuples to make them hashable\n",
    "        value_tuple = tuple(map(tuple, value.values()))\n",
    "\n",
    "        if value_tuple not in unique_values:\n",
    "            unique_values.add(value_tuple)\n",
    "            unique_dict[key] = value\n",
    "\n",
    "    return unique_dict"
   ]
  },
  {
   "cell_type": "code",
   "execution_count": 19,
   "id": "d93b175f",
   "metadata": {},
   "outputs": [],
   "source": [
    "student_data = {\n",
    "    'id1': {'name': ['Sara'], 'class': ['V'], 'subject_integration': ['english, math, science']},\n",
    "    'id2': {'name': ['David'], 'class': ['V'], 'subject_integration': ['english, math, science']},\n",
    "    'id3': {'name': ['Sara'], 'class': ['V'], 'subject_integration': ['english, math, science']},\n",
    "    'id4': {'name': ['Surya'], 'class': ['V'], 'subject_integration': ['english, math, science']}\n",
    "}"
   ]
  },
  {
   "cell_type": "code",
   "execution_count": 20,
   "id": "fbdca83d",
   "metadata": {},
   "outputs": [
    {
     "name": "stdout",
     "output_type": "stream",
     "text": [
      "{'id1': {'name': ['Sara'], 'class': ['V'], 'subject_integration': ['english, math, science']}, 'id2': {'name': ['David'], 'class': ['V'], 'subject_integration': ['english, math, science']}, 'id4': {'name': ['Surya'], 'class': ['V'], 'subject_integration': ['english, math, science']}}\n"
     ]
    }
   ],
   "source": [
    "result = remove_duplicates_from_dict(student_data)\n",
    "print(result)"
   ]
  },
  {
   "cell_type": "markdown",
   "id": "3aa985aa",
   "metadata": {},
   "source": [
    "# write a program to combine two dictionary adding values for common keys"
   ]
  },
  {
   "cell_type": "code",
   "execution_count": 21,
   "id": "61cfee4b",
   "metadata": {},
   "outputs": [],
   "source": [
    "def combine_dictionaries(dict1, dict2):\n",
    "    combined_dict = dict1.copy()\n",
    "\n",
    "    for key, value in dict2.items():\n",
    "        if key in combined_dict:\n",
    "            combined_dict[key] += value\n",
    "        else:\n",
    "            combined_dict[key] = value\n",
    "\n",
    "    return combined_dict"
   ]
  },
  {
   "cell_type": "code",
   "execution_count": 22,
   "id": "33733d73",
   "metadata": {},
   "outputs": [
    {
     "data": {
      "text/plain": [
       "{'a': 1300, 'b': 3400, 'c': 1300, 'd': 400}"
      ]
     },
     "execution_count": 22,
     "metadata": {},
     "output_type": "execute_result"
    }
   ],
   "source": [
    "d1 = {'a': 1000, 'b': 3200, 'c':1300}\n",
    "d2 = {'a': 300, 'b': 200, 'd':400}\n",
    "d=combine_dictionaries(d1,d2)\n",
    "d"
   ]
  },
  {
   "cell_type": "markdown",
   "id": "5d2ef4c0",
   "metadata": {},
   "source": [
    "# write a program to print all unique values from a dictionary in a list"
   ]
  },
  {
   "cell_type": "code",
   "execution_count": 26,
   "id": "14c5dc1f",
   "metadata": {},
   "outputs": [
    {
     "name": "stdout",
     "output_type": "stream",
     "text": [
      "['S001', 'S002', 'S005', 'S009', 'S007']\n"
     ]
    }
   ],
   "source": [
    "def get_unique_values(data):\n",
    "    unique_values = []\n",
    "    for dictionary in data:\n",
    "        for value in dictionary.values():\n",
    "            if value not in unique_values:\n",
    "                unique_values.append(value)\n",
    "    return unique_values\n",
    "\n",
    "my_dict = [{\"V\":\"S001\"}, {\"V\": \"S002\"}, {\"VI\": \"S005\"}, {\"VI\": \"S005\"}, {\"VII\":\"S005\"}, {\n",
    "\"V\":\"S009\"},{\"VIII\":\"S007\"}]\n",
    "unique_values = get_unique_values(my_dict)\n",
    "print(unique_values)"
   ]
  },
  {
   "cell_type": "code",
   "execution_count": null,
   "id": "b7aebf2d",
   "metadata": {},
   "outputs": [],
   "source": []
  }
 ],
 "metadata": {
  "kernelspec": {
   "display_name": "Python 3 (ipykernel)",
   "language": "python",
   "name": "python3"
  },
  "language_info": {
   "codemirror_mode": {
    "name": "ipython",
    "version": 3
   },
   "file_extension": ".py",
   "mimetype": "text/x-python",
   "name": "python",
   "nbconvert_exporter": "python",
   "pygments_lexer": "ipython3",
   "version": "3.10.10"
  }
 },
 "nbformat": 4,
 "nbformat_minor": 5
}
