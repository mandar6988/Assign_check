{
 "cells": [
  {
   "cell_type": "markdown",
   "id": "e4df33dc",
   "metadata": {},
   "source": [
    "# 1.1 Write a Python Program(with class concepts) to find the area of the triangle using the below formula. area = (s*(s-a)*(s-b)*(s-c)) ** 0.5 Function to take the length of the sides of triangle from user should be defined in the parent class and function to calculate the area should be defined in subclass."
   ]
  },
  {
   "cell_type": "code",
   "execution_count": 1,
   "id": "9024717a",
   "metadata": {},
   "outputs": [
    {
     "name": "stdout",
     "output_type": "stream",
     "text": [
      "enter a10\n",
      "enter b23\n",
      "enter c34\n",
      "10.0\n",
      "(3.936559702560052e-15+64.28889873065178j)\n"
     ]
    }
   ],
   "source": [
    "class Triangle:\n",
    "    \n",
    "    def __init__(self,a,b,c):\n",
    "        self.a=a\n",
    "        self.b=b\n",
    "        self.c=c\n",
    "class area(Triangle):\n",
    "    def __init__(self,a,b,c):\n",
    "        print(a)\n",
    "    def area1(self):\n",
    "        s=(a+b+c)/2\n",
    "        ar=pow((s*(s-a)*(s-b)*(s-c)),0.5)\n",
    "        return (ar)       \n",
    "a=float(input(\"enter a\"))\n",
    "b=float(input(\"enter b\"))\n",
    "c=float(input(\"enter c\"))\n",
    "\n",
    "op=area(a,b,c)\n",
    "op.area1\n",
    "print(op.area1())"
   ]
  },
  {
   "cell_type": "markdown",
   "id": "0288ecec",
   "metadata": {},
   "source": [
    "# 1.2 Write a function filter_long_words() that takes a list of words and an integer n and returns the list of words that are longer than n."
   ]
  },
  {
   "cell_type": "code",
   "execution_count": 2,
   "id": "82a2062a",
   "metadata": {},
   "outputs": [],
   "source": [
    "lt=[]\n",
    "def filter_long_words(n,l):\n",
    "    print(type(l))\n",
    "    for i in l:\n",
    "        if (len(i)>n):\n",
    "            lt.append(i)\n",
    "    return(lt)"
   ]
  },
  {
   "cell_type": "code",
   "execution_count": 3,
   "id": "030f68c1",
   "metadata": {},
   "outputs": [
    {
     "name": "stdout",
     "output_type": "stream",
     "text": [
      "<class 'list'>\n"
     ]
    },
    {
     "data": {
      "text/plain": [
       "['aaa', 'aaaa', 'aaaaa']"
      ]
     },
     "execution_count": 3,
     "metadata": {},
     "output_type": "execute_result"
    }
   ],
   "source": [
    "a=['a','aa','aaa','aaaa','aaaaa']\n",
    "filter_long_words(2,a)"
   ]
  },
  {
   "cell_type": "markdown",
   "id": "03a9e30d",
   "metadata": {},
   "source": [
    "# 2.1 Write a Python program using function concept that maps list of words into a list of integers representing the lengths of the corresponding words. Hint: If a list [ ab,cde,erty] is passed on to the python function output should come as [2,3,4] Here 2,3 and 4 are the lengths of the words in the list."
   ]
  },
  {
   "cell_type": "code",
   "execution_count": 5,
   "id": "b1229660",
   "metadata": {},
   "outputs": [
    {
     "name": "stdout",
     "output_type": "stream",
     "text": [
      "[1, 2, 3, 4, 5]\n"
     ]
    }
   ],
   "source": [
    "ln=[]\n",
    "def map_words(l):\n",
    "    for i in l:\n",
    "        ln.append(len(i))\n",
    "    return(ln)\n",
    "a=['a','aa','aaa','aaaa','aaaaa']\n",
    "print(map_words(a))"
   ]
  },
  {
   "cell_type": "markdown",
   "id": "6e827de9",
   "metadata": {},
   "source": [
    "# 2.2 Write a Python function which takes a character (i.e. a string of length 1) and returns True if it is a vowel, False otherwise."
   ]
  },
  {
   "cell_type": "code",
   "execution_count": 6,
   "id": "8b652149",
   "metadata": {},
   "outputs": [
    {
     "name": "stdout",
     "output_type": "stream",
     "text": [
      "False\n"
     ]
    }
   ],
   "source": [
    "def is_vowel(a):\n",
    "    if a  in ['a','e','i','o','u']:\n",
    "        return True\n",
    "    else:\n",
    "        return False\n",
    "    \n",
    "    \n",
    "\n",
    "a=is_vowel('b')\n",
    "print(a)"
   ]
  },
  {
   "cell_type": "code",
   "execution_count": null,
   "id": "fa937490",
   "metadata": {},
   "outputs": [],
   "source": []
  }
 ],
 "metadata": {
  "kernelspec": {
   "display_name": "Python 3 (ipykernel)",
   "language": "python",
   "name": "python3"
  },
  "language_info": {
   "codemirror_mode": {
    "name": "ipython",
    "version": 3
   },
   "file_extension": ".py",
   "mimetype": "text/x-python",
   "name": "python",
   "nbconvert_exporter": "python",
   "pygments_lexer": "ipython3",
   "version": "3.10.10"
  }
 },
 "nbformat": 4,
 "nbformat_minor": 5
}
