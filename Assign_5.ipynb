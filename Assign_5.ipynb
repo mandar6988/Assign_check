{
 "cells": [
  {
   "cell_type": "markdown",
   "id": "8ab02e14",
   "metadata": {},
   "source": [
    "# Write a function to compute 5/0 and use try/except to catch the exceptions."
   ]
  },
  {
   "cell_type": "code",
   "execution_count": 1,
   "id": "a15bf97f",
   "metadata": {},
   "outputs": [
    {
     "name": "stdout",
     "output_type": "stream",
     "text": [
      "Enter any number1\n",
      "Exception is divide by zero\n",
      "Program is executed\n"
     ]
    }
   ],
   "source": [
    "a=int(input(\"Enter any number\"))\n",
    "try:\n",
    "    op=a/0\n",
    "    print(\"output is {}\".format(op))\n",
    "except ZeroDivisionError:\n",
    "    print(\"Exception is divide by zero\")\n",
    "except Exception as e:\n",
    "    print(\"Exception occuured is: \",e)\n",
    "finally:\n",
    "    print(\"Program is executed\")"
   ]
  },
  {
   "cell_type": "code",
   "execution_count": 2,
   "id": "2dd03c0b",
   "metadata": {},
   "outputs": [],
   "source": [
    "def division(x,y):\n",
    "    try:\n",
    "        op=x/y\n",
    "        print(\"output is {}\".format(op))\n",
    "    except Exception as e:\n",
    "        print(\"Exception occuured is: \",e)\n",
    "    finally:\n",
    "        print(\"Program is executed\")"
   ]
  },
  {
   "cell_type": "code",
   "execution_count": 4,
   "id": "5c7a6a62",
   "metadata": {},
   "outputs": [
    {
     "name": "stdout",
     "output_type": "stream",
     "text": [
      "Exception occuured is:  division by zero\n",
      "Program is executed\n"
     ]
    }
   ],
   "source": [
    "division(5,0)"
   ]
  },
  {
   "cell_type": "code",
   "execution_count": 5,
   "id": "67ee3c59",
   "metadata": {},
   "outputs": [
    {
     "name": "stdout",
     "output_type": "stream",
     "text": [
      "output is 5.0\n",
      "Program is executed\n"
     ]
    }
   ],
   "source": [
    "division(5,1)"
   ]
  },
  {
   "cell_type": "markdown",
   "id": "506965d4",
   "metadata": {},
   "source": [
    "# Implement a Python program to generate all sentences where subject is in  [\"Americans\", \"Indians\"] and verb is in [\"Play\", \"watch\"] and the object is in [\"Baseball\",\"cricket\"]."
   ]
  },
  {
   "cell_type": "code",
   "execution_count": 6,
   "id": "c28f3d14",
   "metadata": {},
   "outputs": [],
   "source": [
    "subjects=[\"Americans \",\"Indians\"]\n",
    "verbs=[\"play\",\"watch\"]\n",
    "objects=[\"Baseball\",\"Cricket\"]"
   ]
  },
  {
   "cell_type": "code",
   "execution_count": 7,
   "id": "2d8ee1dc",
   "metadata": {},
   "outputs": [
    {
     "name": "stdout",
     "output_type": "stream",
     "text": [
      "Americans  play Baseball \n",
      "Americans  play Cricket \n",
      "Americans  watch Baseball \n",
      "Americans  watch Cricket \n",
      "Indians play Baseball \n",
      "Indians play Cricket \n",
      "Indians watch Baseball \n",
      "Indians watch Cricket \n",
      "Program is executed\n"
     ]
    }
   ],
   "source": [
    "try:\n",
    "\n",
    "    for i in subjects:\n",
    "        for j in verbs:\n",
    "            for k in objects:\n",
    "                print(i+' '+j+' '+k+' ')\n",
    "except Exception as e:\n",
    "    print(\"Exception occuured is: \",e)\n",
    "finally:\n",
    "    print(\"Program is executed\")"
   ]
  },
  {
   "cell_type": "code",
   "execution_count": null,
   "id": "1fcf747c",
   "metadata": {},
   "outputs": [],
   "source": []
  }
 ],
 "metadata": {
  "kernelspec": {
   "display_name": "Python 3 (ipykernel)",
   "language": "python",
   "name": "python3"
  },
  "language_info": {
   "codemirror_mode": {
    "name": "ipython",
    "version": 3
   },
   "file_extension": ".py",
   "mimetype": "text/x-python",
   "name": "python",
   "nbconvert_exporter": "python",
   "pygments_lexer": "ipython3",
   "version": "3.10.10"
  }
 },
 "nbformat": 4,
 "nbformat_minor": 5
}
